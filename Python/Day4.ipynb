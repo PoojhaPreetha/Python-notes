{
 "cells": [
  {
   "cell_type": "markdown",
   "metadata": {},
   "source": [
    "# Functions"
   ]
  },
  {
   "cell_type": "code",
   "execution_count": 1,
   "metadata": {},
   "outputs": [
    {
     "name": "stdout",
     "output_type": "stream",
     "text": [
      "Hi\n"
     ]
    }
   ],
   "source": [
    "def name():\n",
    "    print(\"Hi\")\n",
    "name()"
   ]
  },
  {
   "cell_type": "code",
   "execution_count": 2,
   "metadata": {},
   "outputs": [],
   "source": [
    "def Song(Num):\n",
    "    if(Num==1):\n",
    "        print(\"Despacito\")\n",
    "    elif(Num==2):\n",
    "        print(\"Friends\")\n",
    "    elif(Num==3):\n",
    "        print(\"Tumhiho\")\n",
    "    else:\n",
    "        print(\"Try again\")"
   ]
  },
  {
   "cell_type": "code",
   "execution_count": 5,
   "metadata": {},
   "outputs": [
    {
     "name": "stdout",
     "output_type": "stream",
     "text": [
      "Friends\n"
     ]
    }
   ],
   "source": [
    "Song(2)"
   ]
  },
  {
   "cell_type": "code",
   "execution_count": 6,
   "metadata": {},
   "outputs": [],
   "source": [
    "def Song(Num):\n",
    "    if(Num==1):\n",
    "        return \"Despacito\"\n",
    "    elif(Num==2):\n",
    "        return \"Friends\"\n",
    "    elif(Num==3):\n",
    "        return \"Tumhiho\"\n",
    "    else:\n",
    "        return \"Try again\""
   ]
  },
  {
   "cell_type": "code",
   "execution_count": 7,
   "metadata": {},
   "outputs": [
    {
     "data": {
      "text/plain": [
       "'Tumhiho'"
      ]
     },
     "execution_count": 7,
     "metadata": {},
     "output_type": "execute_result"
    }
   ],
   "source": [
    "Song(3)"
   ]
  },
  {
   "cell_type": "code",
   "execution_count": 12,
   "metadata": {},
   "outputs": [
    {
     "data": {
      "text/plain": [
       "479"
      ]
     },
     "execution_count": 12,
     "metadata": {},
     "output_type": "execute_result"
    }
   ],
   "source": [
    "import random\n",
    "from random import randint\n",
    "def oddgenerator():\n",
    "    v=randint(1,1000)\n",
    "    if v%2==0:\n",
    "        v=v-1\n",
    "    return v\n",
    "oddgenerator()"
   ]
  },
  {
   "cell_type": "code",
   "execution_count": 13,
   "metadata": {},
   "outputs": [
    {
     "name": "stdout",
     "output_type": "stream",
     "text": [
      "689   385\n"
     ]
    },
    {
     "data": {
      "text/plain": [
       "265265"
      ]
     },
     "execution_count": 13,
     "metadata": {},
     "output_type": "execute_result"
    }
   ],
   "source": [
    "def multiply():\n",
    "    a=oddgenerator();\n",
    "    b=oddgenerator();\n",
    "    print(a,\" \",b)\n",
    "    return a*b\n",
    "multiply()"
   ]
  },
  {
   "cell_type": "code",
   "execution_count": 6,
   "metadata": {},
   "outputs": [
    {
     "data": {
      "text/plain": [
       "278"
      ]
     },
     "execution_count": 6,
     "metadata": {},
     "output_type": "execute_result"
    }
   ],
   "source": [
    "import random\n",
    "from random import randint\n",
    "def evengenerator():\n",
    "    t=randint(1,1000)\n",
    "    if t%2!=0:\n",
    "        t+=1\n",
    "    return t\n",
    "evengenerator()"
   ]
  },
  {
   "cell_type": "code",
   "execution_count": 7,
   "metadata": {
    "scrolled": false
   },
   "outputs": [
    {
     "name": "stdout",
     "output_type": "stream",
     "text": [
      "588   224\n"
     ]
    },
    {
     "data": {
      "text/plain": [
       "131712"
      ]
     },
     "execution_count": 7,
     "metadata": {},
     "output_type": "execute_result"
    }
   ],
   "source": [
    "def mul():\n",
    "    r=evengenerator();\n",
    "    p=evengenerator();\n",
    "    print(r,\" \",p)\n",
    "    return r*p\n",
    "mul()"
   ]
  },
  {
   "cell_type": "code",
   "execution_count": 30,
   "metadata": {},
   "outputs": [],
   "source": [
    "def Mail(*args):\n",
    "    for i in args:\n",
    "        print(i)"
   ]
  },
  {
   "cell_type": "code",
   "execution_count": 31,
   "metadata": {},
   "outputs": [
    {
     "name": "stdout",
     "output_type": "stream",
     "text": [
      "poo.vit.ac.in\n",
      "pbv@gmail.com\n",
      "abc.vit.ac.in\n",
      "tgb@gmail.com\n"
     ]
    }
   ],
   "source": [
    "Mail(\"poo.vit.ac.in\",\"pbv@gmail.com\",\"abc.vit.ac.in\",\"tgb@gmail.com\")"
   ]
  },
  {
   "cell_type": "code",
   "execution_count": 9,
   "metadata": {},
   "outputs": [],
   "source": [
    "def detail(**kwargs):\n",
    "    for key,value in kwargs.items():\n",
    "        print(\"The Key is \",key,\"The value is\",value)"
   ]
  },
  {
   "cell_type": "code",
   "execution_count": 12,
   "metadata": {},
   "outputs": [
    {
     "name": "stdout",
     "output_type": "stream",
     "text": [
      "The Key is  Name The value is Poojha\n",
      "The Key is  Age The value is 20\n",
      "The Key is  DOB The value is 24 OCT 1998\n",
      "The Key is  MailId The value is poo.vit.ac.in\n"
     ]
    }
   ],
   "source": [
    "detail(Name=\"Poojha\",Age=20,DOB=\"24 OCT 1998\",MailId=\"poo.vit.ac.in\")"
   ]
  },
  {
   "cell_type": "code",
   "execution_count": null,
   "metadata": {},
   "outputs": [],
   "source": []
  }
 ],
 "metadata": {
  "kernelspec": {
   "display_name": "Python 3",
   "language": "python",
   "name": "python3"
  },
  "language_info": {
   "codemirror_mode": {
    "name": "ipython",
    "version": 3
   },
   "file_extension": ".py",
   "mimetype": "text/x-python",
   "name": "python",
   "nbconvert_exporter": "python",
   "pygments_lexer": "ipython3",
   "version": "3.7.6"
  }
 },
 "nbformat": 4,
 "nbformat_minor": 4
}
