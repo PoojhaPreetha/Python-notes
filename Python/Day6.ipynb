{
 "cells": [
  {
   "cell_type": "markdown",
   "metadata": {},
   "source": [
    "# Error handling and exceptions"
   ]
  },
  {
   "cell_type": "code",
   "execution_count": 1,
   "metadata": {},
   "outputs": [
    {
     "ename": "ZeroDivisionError",
     "evalue": "division by zero",
     "output_type": "error",
     "traceback": [
      "\u001b[1;31m---------------------------------------------------------------------------\u001b[0m",
      "\u001b[1;31mZeroDivisionError\u001b[0m                         Traceback (most recent call last)",
      "\u001b[1;32m<ipython-input-1-f6e6785dfbf6>\u001b[0m in \u001b[0;36m<module>\u001b[1;34m\u001b[0m\n\u001b[1;32m----> 1\u001b[1;33m \u001b[1;36m40\u001b[0m\u001b[1;33m/\u001b[0m\u001b[1;36m0\u001b[0m\u001b[1;33m\u001b[0m\u001b[1;33m\u001b[0m\u001b[0m\n\u001b[0m",
      "\u001b[1;31mZeroDivisionError\u001b[0m: division by zero"
     ]
    }
   ],
   "source": [
    "40/0"
   ]
  },
  {
   "cell_type": "code",
   "execution_count": 3,
   "metadata": {},
   "outputs": [
    {
     "name": "stdout",
     "output_type": "stream",
     "text": [
      "5 is not divible by 0 -  division by zero\n",
      "Try with other numbers\n"
     ]
    }
   ],
   "source": [
    "try:\n",
    "    5/0\n",
    "    print(\"5 is divisible by 0\")\n",
    "except Exception as e:\n",
    "    print(\"5 is not divible by 0 - \",e)\n",
    "finally:\n",
    "    print(\"Try with other numbers\")"
   ]
  },
  {
   "cell_type": "code",
   "execution_count": 13,
   "metadata": {},
   "outputs": [
    {
     "name": "stdout",
     "output_type": "stream",
     "text": [
      "The file is in read-only mode -  not writable\n",
      "I am tall\n",
      "Your file is saved\n"
     ]
    }
   ],
   "source": [
    "try:\n",
    "    file=open(\"Tree.txt\",'r')\n",
    "    file.write(\"I am short\")\n",
    "except Exception as e:\n",
    "    print(\"The file is in read-only mode - \",e)\n",
    "    file=open(\"Tree.txt\",'r')\n",
    "    f=file.read()\n",
    "    print(f)\n",
    "finally:\n",
    "    print(\"Your file is saved\")\n",
    "    file.close()"
   ]
  },
  {
   "cell_type": "code",
   "execution_count": 12,
   "metadata": {},
   "outputs": [
    {
     "name": "stdout",
     "output_type": "stream",
     "text": [
      "I am tall\n"
     ]
    }
   ],
   "source": [
    "file=open(\"Tree.txt\",'r')\n",
    "f=file.read()\n",
    "print(f)"
   ]
  },
  {
   "cell_type": "code",
   "execution_count": 14,
   "metadata": {},
   "outputs": [
    {
     "name": "stdout",
     "output_type": "stream",
     "text": [
      "Username or Password is not found-Try logging in after sometime\n",
      "Close your window now\n"
     ]
    }
   ],
   "source": [
    "#real time example\n",
    "try:\n",
    "    #creating own exception\n",
    "    5/0\n",
    "    print(\"Enter your Username\")\n",
    "    print(\"Enter your Password\")\n",
    "   # print(\"Username or Password is not found\")\n",
    "except:\n",
    "    print(\"Username or Password is not found-Try logging in after sometime\")\n",
    "finally:\n",
    "    print(\"Close your window now\")"
   ]
  },
  {
   "cell_type": "markdown",
   "metadata": {},
   "source": [
    "# Unit Testing "
   ]
  },
  {
   "cell_type": "code",
   "execution_count": 16,
   "metadata": {},
   "outputs": [
    {
     "name": "stdout",
     "output_type": "stream",
     "text": [
      "Requirement already satisfied: pylint in c:\\users\\poojha\\anaconda3\\lib\\site-packages (2.4.4)\n",
      "Requirement already satisfied: astroid<2.4,>=2.3.0 in c:\\users\\poojha\\anaconda3\\lib\\site-packages (from pylint) (2.3.3)\n",
      "Requirement already satisfied: isort<5,>=4.2.5 in c:\\users\\poojha\\anaconda3\\lib\\site-packages (from pylint) (4.3.21)\n",
      "Requirement already satisfied: mccabe<0.7,>=0.6 in c:\\users\\poojha\\anaconda3\\lib\\site-packages (from pylint) (0.6.1)\n",
      "Requirement already satisfied: colorama; sys_platform == \"win32\" in c:\\users\\poojha\\anaconda3\\lib\\site-packages (from pylint) (0.4.3)\n",
      "Collecting typed-ast<1.5,>=1.4.0; implementation_name == \"cpython\" and python_version < \"3.8\"\n",
      "  Downloading typed_ast-1.4.1-cp37-cp37m-win_amd64.whl (155 kB)\n",
      "Requirement already satisfied: six~=1.12 in c:\\users\\poojha\\anaconda3\\lib\\site-packages (from astroid<2.4,>=2.3.0->pylint) (1.14.0)\n",
      "Requirement already satisfied: lazy-object-proxy==1.4.* in c:\\users\\poojha\\anaconda3\\lib\\site-packages (from astroid<2.4,>=2.3.0->pylint) (1.4.3)\n",
      "Requirement already satisfied: wrapt==1.11.* in c:\\users\\poojha\\anaconda3\\lib\\site-packages (from astroid<2.4,>=2.3.0->pylint) (1.11.2)\n",
      "Installing collected packages: typed-ast\n",
      "Successfully installed typed-ast-1.4.1\n"
     ]
    }
   ],
   "source": [
    "!pip install pylint"
   ]
  },
  {
   "cell_type": "code",
   "execution_count": 33,
   "metadata": {},
   "outputs": [
    {
     "name": "stdout",
     "output_type": "stream",
     "text": [
      "Overwriting pylint_one.py\n"
     ]
    }
   ],
   "source": [
    "%%writefile pylint_one.py\n",
    "'''\n",
    "A Sample Program for testing PyLint\n",
    "'''\n",
    "A = 1\n",
    "B = 2\n",
    "if A == B:\n",
    "    print(\"A equals B\")\n",
    "else:\n",
    "    print(\"A is not equal to B\")"
   ]
  },
  {
   "cell_type": "code",
   "execution_count": 35,
   "metadata": {},
   "outputs": [
    {
     "name": "stdout",
     "output_type": "stream",
     "text": [
      "\n",
      "------------------------------------\n",
      "\n",
      "Your code has been rated at 10.00/10\n",
      "\n",
      "\n",
      "\n"
     ]
    }
   ],
   "source": [
    "! pylint pylint_one.py"
   ]
  },
  {
   "cell_type": "code",
   "execution_count": 37,
   "metadata": {},
   "outputs": [],
   "source": [
    "def addition(*args):\n",
    "    if len(args) == 2:\n",
    "        return args[0] + args[1]\n",
    "    elif len(args) > 2:\n",
    "        print(\"Refer Doc string\")\n",
    "    else:\n",
    "        a = 0\n",
    "        for i in args[0]:\n",
    "            a = a + i\n",
    "        return a"
   ]
  },
  {
   "cell_type": "code",
   "execution_count": 38,
   "metadata": {},
   "outputs": [
    {
     "data": {
      "text/plain": [
       "13"
      ]
     },
     "execution_count": 38,
     "metadata": {},
     "output_type": "execute_result"
    }
   ],
   "source": [
    "addition(5,8)"
   ]
  },
  {
   "cell_type": "code",
   "execution_count": 39,
   "metadata": {},
   "outputs": [
    {
     "name": "stdout",
     "output_type": "stream",
     "text": [
      "Refer Doc string\n"
     ]
    }
   ],
   "source": [
    "addition(8,9,5)"
   ]
  },
  {
   "cell_type": "code",
   "execution_count": 40,
   "metadata": {},
   "outputs": [
    {
     "data": {
      "text/plain": [
       "26"
      ]
     },
     "execution_count": 40,
     "metadata": {},
     "output_type": "execute_result"
    }
   ],
   "source": [
    "addition([9,8,5,4])"
   ]
  },
  {
   "cell_type": "code",
   "execution_count": 45,
   "metadata": {},
   "outputs": [
    {
     "name": "stdout",
     "output_type": "stream",
     "text": [
      "Overwriting pylint_addition.py\n"
     ]
    }
   ],
   "source": [
    "%%writefile pylint_addition.py\n",
    "'''\n",
    "1.Adding two numbers\n",
    "2.Adding list of numbers\n",
    "'''\n",
    "def addition(*args):\n",
    "    if len(args) == 2:\n",
    "        return args[0] + args[1]\n",
    "    elif len(args) > 2:\n",
    "        print(\"Refer Doc string\")\n",
    "    else:\n",
    "        A = 0\n",
    "        for i in args[0]:\n",
    "            A = A + i\n",
    "        return A"
   ]
  },
  {
   "cell_type": "code",
   "execution_count": 46,
   "metadata": {},
   "outputs": [
    {
     "name": "stdout",
     "output_type": "stream",
     "text": [
      "************* Module pylint_addition\n",
      "pylint_addition.py:5:0: C0116: Missing function or method docstring (missing-function-docstring)\n",
      "pylint_addition.py:6:4: R1705: Unnecessary \"elif\" after \"return\" (no-else-return)\n",
      "pylint_addition.py:11:8: C0103: Variable name \"A\" doesn't conform to snake_case naming style (invalid-name)\n",
      "pylint_addition.py:13:12: C0103: Variable name \"A\" doesn't conform to snake_case naming style (invalid-name)\n",
      "pylint_addition.py:5:0: R1710: Either all return statements in a function should return an expression, or none of them should. (inconsistent-return-statements)\n",
      "\n",
      "------------------------------------------------------------------\n",
      "\n",
      "Your code has been rated at 4.44/10 (previous run: 1.11/10, +3.33)\n",
      "\n",
      "\n",
      "\n"
     ]
    }
   ],
   "source": [
    "! pylint pylint_addition.py"
   ]
  },
  {
   "cell_type": "code",
   "execution_count": 63,
   "metadata": {},
   "outputs": [
    {
     "name": "stdout",
     "output_type": "stream",
     "text": [
      "Overwriting unit_test_addition_one.py\n"
     ]
    }
   ],
   "source": [
    "%%writefile unit_test_addition_one.py\n",
    "import unittest\n",
    "import pylint_addition\n",
    "class TestAddition(unittest.TestCase):\n",
    "    def test_two_numbers(self):\n",
    "        A = 4\n",
    "        B = 5\n",
    "        result = pylint_addition.addition(A,B)\n",
    "        self.assertEqual(result,9)\n",
    "    def test_mul_numbers(self):\n",
    "        A = 1\n",
    "        B = 2\n",
    "        C = 3\n",
    "        result = pylint_addition.addition(A,B,C)\n",
    "        self.assertEqual(result,0)\n",
    "    def test_list_of_numbers(self):\n",
    "        l = list(range(1,10))\n",
    "        result = pylint_addition.addition(l)\n",
    "        self.assertEqual(result,45)\n",
    "if __name__ == '__main__':\n",
    "    unittest.main()"
   ]
  },
  {
   "cell_type": "code",
   "execution_count": 64,
   "metadata": {},
   "outputs": [
    {
     "name": "stdout",
     "output_type": "stream",
     "text": [
      "Refer Doc string\n"
     ]
    },
    {
     "name": "stderr",
     "output_type": "stream",
     "text": [
      ".F.\n",
      "======================================================================\n",
      "FAIL: test_mul_numbers (__main__.TestAddition)\n",
      "----------------------------------------------------------------------\n",
      "Traceback (most recent call last):\n",
      "  File \"unit_test_addition_one.py\", line 14, in test_mul_numbers\n",
      "    self.assertEqual(result,0)\n",
      "AssertionError: None != 0\n",
      "\n",
      "----------------------------------------------------------------------\n",
      "Ran 3 tests in 0.001s\n",
      "\n",
      "FAILED (failures=1)\n"
     ]
    }
   ],
   "source": [
    "! python unit_test_addition_one.py"
   ]
  },
  {
   "cell_type": "code",
   "execution_count": null,
   "metadata": {},
   "outputs": [],
   "source": []
  }
 ],
 "metadata": {
  "kernelspec": {
   "display_name": "Python 3",
   "language": "python",
   "name": "python3"
  },
  "language_info": {
   "codemirror_mode": {
    "name": "ipython",
    "version": 3
   },
   "file_extension": ".py",
   "mimetype": "text/x-python",
   "name": "python",
   "nbconvert_exporter": "python",
   "pygments_lexer": "ipython3",
   "version": "3.7.6"
  }
 },
 "nbformat": 4,
 "nbformat_minor": 4
}
