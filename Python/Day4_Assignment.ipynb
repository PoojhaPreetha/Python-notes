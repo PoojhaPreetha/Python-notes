{
 "cells": [
  {
   "cell_type": "markdown",
   "metadata": {},
   "source": [
    "# Question 1 Sub-list"
   ]
  },
  {
   "cell_type": "code",
   "execution_count": 5,
   "metadata": {},
   "outputs": [],
   "source": [
    "def ip():\n",
    "    lst=[]\n",
    "    i=1\n",
    "    while(i<=8):\n",
    "        t=int(input(\"Enter the number \"))\n",
    "        lst.append(t)\n",
    "        i+=1\n",
    "    return lst"
   ]
  },
  {
   "cell_type": "code",
   "execution_count": 6,
   "metadata": {},
   "outputs": [
    {
     "name": "stdout",
     "output_type": "stream",
     "text": [
      "Enter the number 1\n",
      "Enter the number 5\n",
      "Enter the number 6\n",
      "Enter the number 4\n",
      "Enter the number 1\n",
      "Enter the number 2\n",
      "Enter the number 3\n",
      "Enter the number 5\n"
     ]
    },
    {
     "data": {
      "text/plain": [
       "[1, 5, 6, 4, 1, 2, 3, 5]"
      ]
     },
     "execution_count": 6,
     "metadata": {},
     "output_type": "execute_result"
    }
   ],
   "source": [
    "ip()"
   ]
  },
  {
   "cell_type": "code",
   "execution_count": 7,
   "metadata": {},
   "outputs": [],
   "source": [
    "def identify(lst):\n",
    "    sub_lst = [1,1,5]\n",
    "    for i in range(0,8):\n",
    "        if(lst[i] == sub_lst[0]):\n",
    "            sub_lst.pop(0)\n",
    "        if(len(sub_lst) == 0):\n",
    "            break\n",
    "    if(len(sub_lst) == 0 ):\n",
    "        return \"Its a match\"\n",
    "    else:\n",
    "        return \"Its gone\""
   ]
  },
  {
   "cell_type": "code",
   "execution_count": 8,
   "metadata": {},
   "outputs": [
    {
     "name": "stdout",
     "output_type": "stream",
     "text": [
      "Enter the number 1\n",
      "Enter the number 5\n",
      "Enter the number 6\n",
      "Enter the number 4\n",
      "Enter the number 1\n",
      "Enter the number 2\n",
      "Enter the number 3\n",
      "Enter the number 5\n"
     ]
    },
    {
     "data": {
      "text/plain": [
       "'Its a match'"
      ]
     },
     "execution_count": 8,
     "metadata": {},
     "output_type": "execute_result"
    }
   ],
   "source": [
    "list_n = ip()\n",
    "identify(list_n)"
   ]
  },
  {
   "cell_type": "code",
   "execution_count": 9,
   "metadata": {},
   "outputs": [
    {
     "name": "stdout",
     "output_type": "stream",
     "text": [
      "Enter the number 1\n",
      "Enter the number 5\n",
      "Enter the number 6\n",
      "Enter the number 5\n",
      "Enter the number 1\n",
      "Enter the number 2\n",
      "Enter the number 3\n",
      "Enter the number 6\n"
     ]
    },
    {
     "data": {
      "text/plain": [
       "'Its gone'"
      ]
     },
     "execution_count": 9,
     "metadata": {},
     "output_type": "execute_result"
    }
   ],
   "source": [
    "list_n = ip()\n",
    "identify(list_n)"
   ]
  },
  {
   "cell_type": "markdown",
   "metadata": {},
   "source": [
    "# Question 2 Tic Tac Toe"
   ]
  },
  {
   "cell_type": "code",
   "execution_count": 16,
   "metadata": {},
   "outputs": [],
   "source": [
    "theBoard = {'7': ' ' , '8': ' ' , '9': ' ' ,\n",
    "            '4': ' ' , '5': ' ' , '6': ' ' ,\n",
    "            '1': ' ' , '2': ' ' , '3': ' ' }\n",
    "\n",
    "board_keys = []\n",
    "\n",
    "for key in theBoard:\n",
    "    board_keys.append(key)"
   ]
  },
  {
   "cell_type": "code",
   "execution_count": 17,
   "metadata": {},
   "outputs": [],
   "source": [
    "def printBoard(board):\n",
    "    print(board['7'] + '|' + board['8'] + '|' + board['9'])\n",
    "    print('-+-+-')\n",
    "    print(board['4'] + '|' + board['5'] + '|' + board['6'])\n",
    "    print('-+-+-')\n",
    "    print(board['1'] + '|' + board['2'] + '|' + board['3'])"
   ]
  },
  {
   "cell_type": "code",
   "execution_count": 18,
   "metadata": {},
   "outputs": [
    {
     "name": "stdout",
     "output_type": "stream",
     "text": [
      " | | \n",
      "-+-+-\n",
      " | | \n",
      "-+-+-\n",
      " | | \n",
      "It's your turn,X.Move to which place?\n",
      "2\n",
      " | | \n",
      "-+-+-\n",
      " | | \n",
      "-+-+-\n",
      " |X| \n",
      "It's your turn,O.Move to which place?\n",
      "6\n",
      " | | \n",
      "-+-+-\n",
      " | |O\n",
      "-+-+-\n",
      " |X| \n",
      "It's your turn,X.Move to which place?\n",
      "5\n",
      " | | \n",
      "-+-+-\n",
      " |X|O\n",
      "-+-+-\n",
      " |X| \n",
      "It's your turn,O.Move to which place?\n",
      "6\n",
      "That place is already filled.\n",
      "Move to which place?\n",
      " | | \n",
      "-+-+-\n",
      " |X|O\n",
      "-+-+-\n",
      " |X| \n",
      "It's your turn,O.Move to which place?\n",
      "4\n",
      " | | \n",
      "-+-+-\n",
      "O|X|O\n",
      "-+-+-\n",
      " |X| \n",
      "It's your turn,X.Move to which place?\n",
      "8\n",
      " |X| \n",
      "-+-+-\n",
      "O|X|O\n",
      "-+-+-\n",
      " |X| \n",
      "\n",
      "Game Over.\n",
      "\n",
      " **** X won. ****\n",
      "Do want to play Again?(y/n)n\n"
     ]
    }
   ],
   "source": [
    "def game():\n",
    "\n",
    "    turn = 'X'\n",
    "    count = 0\n",
    "\n",
    "\n",
    "    for i in range(10):\n",
    "        printBoard(theBoard)\n",
    "        print(\"It's your turn,\" + turn + \".Move to which place?\")\n",
    "\n",
    "        move = input()        \n",
    "\n",
    "        if theBoard[move] == ' ':\n",
    "            theBoard[move] = turn\n",
    "            count += 1\n",
    "        else:\n",
    "            print(\"That place is already filled.\\nMove to which place?\")\n",
    "            continue\n",
    "\n",
    "    \n",
    "        if count >= 5:\n",
    "            if theBoard['7'] == theBoard['8'] == theBoard['9'] != ' ': \n",
    "                printBoard(theBoard)\n",
    "                print(\"\\nGame Over.\\n\")                \n",
    "                print(\" **** \" +turn + \" won. ****\")                \n",
    "                break\n",
    "            elif theBoard['4'] == theBoard['5'] == theBoard['6'] != ' ': \n",
    "                printBoard(theBoard)\n",
    "                print(\"\\nGame Over.\\n\")                \n",
    "                print(\" **** \" +turn + \" won. ****\")\n",
    "                break\n",
    "            elif theBoard['1'] == theBoard['2'] == theBoard['3'] != ' ': \n",
    "                printBoard(theBoard)\n",
    "                print(\"\\nGame Over.\\n\")                \n",
    "                print(\" **** \" +turn + \" won. ****\")\n",
    "                break\n",
    "            elif theBoard['1'] == theBoard['4'] == theBoard['7'] != ' ': \n",
    "                printBoard(theBoard)\n",
    "                print(\"\\nGame Over.\\n\")                \n",
    "                print(\" **** \" +turn + \" won. ****\")\n",
    "                break\n",
    "            elif theBoard['2'] == theBoard['5'] == theBoard['8'] != ' ': \n",
    "                printBoard(theBoard)\n",
    "                print(\"\\nGame Over.\\n\")                \n",
    "                print(\" **** \" +turn + \" won. ****\")\n",
    "                break\n",
    "            elif theBoard['3'] == theBoard['6'] == theBoard['9'] != ' ': \n",
    "                printBoard(theBoard)\n",
    "                print(\"\\nGame Over.\\n\")                \n",
    "                print(\" **** \" +turn + \" won. ****\")\n",
    "                break \n",
    "            elif theBoard['7'] == theBoard['5'] == theBoard['3'] != ' ': \n",
    "                printBoard(theBoard)\n",
    "                print(\"\\nGame Over.\\n\")                \n",
    "                print(\" **** \" +turn + \" won. ****\")\n",
    "                break\n",
    "            elif theBoard['1'] == theBoard['5'] == theBoard['9'] != ' ': \n",
    "                printBoard(theBoard)\n",
    "                print(\"\\nGame Over.\\n\")                \n",
    "                print(\" **** \" +turn + \" won. ****\")\n",
    "                break \n",
    "\n",
    "    \n",
    "        if count == 9:\n",
    "            print(\"\\nGame Over.\\n\")                \n",
    "            print(\"It's a Tie!!\")\n",
    "\n",
    "    \n",
    "        if turn =='X':\n",
    "            turn = 'O'\n",
    "        else:\n",
    "            turn = 'X'        \n",
    "    \n",
    "\n",
    "    restart = input(\"Do want to play Again?(y/n)\")\n",
    "    if restart == \"y\" or restart == \"Y\":  \n",
    "        for key in board_keys:\n",
    "            theBoard[key] = \" \"\n",
    "\n",
    "        game()\n",
    "\n",
    "if __name__ == \"__main__\":\n",
    "    game()\n"
   ]
  },
  {
   "cell_type": "code",
   "execution_count": null,
   "metadata": {},
   "outputs": [],
   "source": []
  }
 ],
 "metadata": {
  "kernelspec": {
   "display_name": "Python 3",
   "language": "python",
   "name": "python3"
  },
  "language_info": {
   "codemirror_mode": {
    "name": "ipython",
    "version": 3
   },
   "file_extension": ".py",
   "mimetype": "text/x-python",
   "name": "python",
   "nbconvert_exporter": "python",
   "pygments_lexer": "ipython3",
   "version": "3.7.6"
  }
 },
 "nbformat": 4,
 "nbformat_minor": 4
}
