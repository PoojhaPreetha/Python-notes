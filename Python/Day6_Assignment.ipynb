{
 "cells": [
  {
   "cell_type": "markdown",
   "metadata": {},
   "source": [
    "# Question 1 Exception Handling"
   ]
  },
  {
   "cell_type": "code",
   "execution_count": 3,
   "metadata": {},
   "outputs": [
    {
     "name": "stdout",
     "output_type": "stream",
     "text": [
      "I am learning Python in Letsupgrade channel\n"
     ]
    }
   ],
   "source": [
    "file = open(\"Pythontry.txt\",'r')\n",
    "#file.write(\"I am learning Python in Letsupgrade channel\")\n",
    "g = file.read()\n",
    "print(g)"
   ]
  },
  {
   "cell_type": "code",
   "execution_count": 5,
   "metadata": {},
   "outputs": [
    {
     "name": "stdout",
     "output_type": "stream",
     "text": [
      "The file is in read-only mode -  not writable\n",
      "I am learning Python in Letsupgrade channel\n",
      "Your file is saved\n"
     ]
    }
   ],
   "source": [
    "try:\n",
    "    file = open(\"Pythontry.txt\",'r')\n",
    "    file.write(\"I will learn later\")\n",
    "except Exception as e:\n",
    "    print(\"The file is in read-only mode - \",e)\n",
    "    file = open(\"Pythontry.txt\",'r')\n",
    "    t=file.read()\n",
    "    print(t)\n",
    "finally:\n",
    "    print(\"Your file is saved\")\n",
    "    file.close()\n",
    "    "
   ]
  },
  {
   "cell_type": "markdown",
   "metadata": {},
   "source": [
    "# Question 2 Pylint And Unit Testing"
   ]
  },
  {
   "cell_type": "code",
   "execution_count": 115,
   "metadata": {},
   "outputs": [],
   "source": [
    "#prime number\n",
    "def prime(B):\n",
    "    if B > 1:\n",
    "        for i in range(2,B):\n",
    "            if(B % i) == 0:\n",
    "                print(B, \"is not a Prime Number\")\n",
    "                return B\n",
    "                break\n",
    "        else:\n",
    "            print(B, \"is Prime Number\")\n",
    "            return B\n",
    "    else:\n",
    "        print(B, \"is not a Prime Number\")\n",
    "        return B"
   ]
  },
  {
   "cell_type": "code",
   "execution_count": 116,
   "metadata": {},
   "outputs": [
    {
     "name": "stdout",
     "output_type": "stream",
     "text": [
      "9 is not a Prime Number\n"
     ]
    },
    {
     "data": {
      "text/plain": [
       "9"
      ]
     },
     "execution_count": 116,
     "metadata": {},
     "output_type": "execute_result"
    }
   ],
   "source": [
    "prime(9)"
   ]
  },
  {
   "cell_type": "code",
   "execution_count": 117,
   "metadata": {},
   "outputs": [
    {
     "name": "stdout",
     "output_type": "stream",
     "text": [
      "59 is Prime Number\n"
     ]
    },
    {
     "data": {
      "text/plain": [
       "59"
      ]
     },
     "execution_count": 117,
     "metadata": {},
     "output_type": "execute_result"
    }
   ],
   "source": [
    "prime(59)"
   ]
  },
  {
   "cell_type": "code",
   "execution_count": 118,
   "metadata": {},
   "outputs": [
    {
     "name": "stdout",
     "output_type": "stream",
     "text": [
      "11 is Prime Number\n"
     ]
    },
    {
     "data": {
      "text/plain": [
       "11"
      ]
     },
     "execution_count": 118,
     "metadata": {},
     "output_type": "execute_result"
    }
   ],
   "source": [
    "prime(11)"
   ]
  },
  {
   "cell_type": "code",
   "execution_count": 119,
   "metadata": {},
   "outputs": [
    {
     "name": "stdout",
     "output_type": "stream",
     "text": [
      "13 is Prime Number\n"
     ]
    },
    {
     "data": {
      "text/plain": [
       "13"
      ]
     },
     "execution_count": 119,
     "metadata": {},
     "output_type": "execute_result"
    }
   ],
   "source": [
    "prime(13)"
   ]
  },
  {
   "cell_type": "code",
   "execution_count": 122,
   "metadata": {},
   "outputs": [
    {
     "name": "stdout",
     "output_type": "stream",
     "text": [
      "1 is not a Prime Number\n"
     ]
    },
    {
     "data": {
      "text/plain": [
       "1"
      ]
     },
     "execution_count": 122,
     "metadata": {},
     "output_type": "execute_result"
    }
   ],
   "source": [
    "prime(1)"
   ]
  },
  {
   "cell_type": "code",
   "execution_count": 129,
   "metadata": {},
   "outputs": [
    {
     "name": "stdout",
     "output_type": "stream",
     "text": [
      "Overwriting assignment_one.py\n"
     ]
    }
   ],
   "source": [
    "%%writefile assignment_one.py\n",
    "'''\n",
    "A Sample Program for testing Prime number\n",
    "'''\n",
    "def prime(num_ber):\n",
    "    '''\n",
    "    A Sample Program for testing Prime number\n",
    "    '''\n",
    "    if num_ber > 1:\n",
    "        for i in range(2, num_ber):\n",
    "            if(num_ber % i) == 0:\n",
    "                print(num_ber, \"is not a Prime Number\")\n",
    "                return num_ber\n",
    "                break\n",
    "        else:\n",
    "            print(num_ber, \"is Prime Number\")\n",
    "            return num_ber\n",
    "    else:\n",
    "        print(num_ber, \"is not a Prime Number\")\n",
    "        return num_ber"
   ]
  },
  {
   "cell_type": "code",
   "execution_count": 128,
   "metadata": {},
   "outputs": [
    {
     "name": "stdout",
     "output_type": "stream",
     "text": [
      "\n",
      "-------------------------------------------------------------------\n",
      "\n",
      "Your code has been rated at 10.00/10 (previous run: 8.00/10, +2.00)\n",
      "\n",
      "\n",
      "\n"
     ]
    }
   ],
   "source": [
    "! pylint assignment_one.py"
   ]
  },
  {
   "cell_type": "code",
   "execution_count": 137,
   "metadata": {},
   "outputs": [
    {
     "name": "stdout",
     "output_type": "stream",
     "text": [
      "Overwriting test_assignment_one.py\n"
     ]
    }
   ],
   "source": [
    "%%writefile test_assignment_one.py\n",
    "import unittest\n",
    "import assignment_one\n",
    "from assignment_one import prime\n",
    "class Prime_num(unittest.TestCase):\n",
    "    def test_prime(self):\n",
    "        A = 5\n",
    "        r=assignment_one.prime(A)\n",
    "        self.assertEqual(r,5)\n",
    "    def test_not_prime(self):\n",
    "        A=90\n",
    "        r=assignment_one.prime(A)\n",
    "        self.assertEqual(r,90)\n",
    "if __name__ == '__main__':\n",
    "    unittest.main()"
   ]
  },
  {
   "cell_type": "code",
   "execution_count": 138,
   "metadata": {},
   "outputs": [
    {
     "name": "stdout",
     "output_type": "stream",
     "text": [
      "90 is not a Prime Number\n",
      "5 is Prime Number\n"
     ]
    },
    {
     "name": "stderr",
     "output_type": "stream",
     "text": [
      "..\n",
      "----------------------------------------------------------------------\n",
      "Ran 2 tests in 0.000s\n",
      "\n",
      "OK\n"
     ]
    }
   ],
   "source": [
    "! python test_assignment_one.py"
   ]
  },
  {
   "cell_type": "code",
   "execution_count": null,
   "metadata": {},
   "outputs": [],
   "source": []
  }
 ],
 "metadata": {
  "kernelspec": {
   "display_name": "Python 3",
   "language": "python",
   "name": "python3"
  },
  "language_info": {
   "codemirror_mode": {
    "name": "ipython",
    "version": 3
   },
   "file_extension": ".py",
   "mimetype": "text/x-python",
   "name": "python",
   "nbconvert_exporter": "python",
   "pygments_lexer": "ipython3",
   "version": "3.7.6"
  }
 },
 "nbformat": 4,
 "nbformat_minor": 4
}
