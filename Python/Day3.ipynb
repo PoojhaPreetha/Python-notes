{
 "cells": [
  {
   "cell_type": "code",
   "execution_count": 1,
   "metadata": {},
   "outputs": [
    {
     "name": "stdout",
     "output_type": "stream",
     "text": [
      "A not equal to B\n"
     ]
    }
   ],
   "source": [
    "#if elif else\n",
    "a=5\n",
    "b=50\n",
    "if a==b:\n",
    "    print(\"A equals B\")\n",
    "else:\n",
    "    print(\"A not equal to B\")"
   ]
  },
  {
   "cell_type": "code",
   "execution_count": 2,
   "metadata": {},
   "outputs": [
    {
     "name": "stdout",
     "output_type": "stream",
     "text": [
      "C is greater than B\n"
     ]
    }
   ],
   "source": [
    "a=48\n",
    "b=88\n",
    "c=90\n",
    "if a>b:\n",
    "    print(\"B is greater than A\")\n",
    "elif b<c:\n",
    "    print(\"C is greater than B\")\n",
    "else:\n",
    "    print(\"A is greater\")"
   ]
  },
  {
   "cell_type": "code",
   "execution_count": 4,
   "metadata": {},
   "outputs": [
    {
     "name": "stdout",
     "output_type": "stream",
     "text": [
      "A is in range 0\n",
      "A is true\n",
      "A is in range 1\n",
      "A is true\n",
      "A is in range 2\n",
      "A is true\n",
      "A is in range 3\n",
      "A is true\n",
      "A is in range 4\n",
      "A is true\n",
      "A is in range 5\n",
      "A is true\n",
      "A is in range 6\n",
      "A is true\n",
      "A is in range 7\n",
      "A is true\n",
      "A is in range 8\n",
      "A is true\n",
      "A is in range 9\n",
      "A is true\n",
      "A is in range 10\n",
      "A is true\n",
      "A is in range 11\n",
      "A is true\n",
      "A is in range 12\n",
      "A is true\n",
      "A is in range 13\n",
      "A is true\n",
      "A is in range 14\n",
      "A is true\n",
      "A is in range 15\n",
      "A is true\n",
      "A is in range 16\n",
      "A is true\n",
      "A is in range 17\n",
      "A is true\n",
      "A is in range 18\n",
      "A is true\n",
      "A is in range 19\n",
      "A is true\n",
      "A is in range 20\n",
      "A is true\n",
      "A is in range 21\n",
      "A is true\n",
      "A is in range 22\n",
      "A is true\n",
      "A is in range 23\n",
      "A is true\n",
      "A is in range 24\n",
      "A is true\n",
      "A is in range 25\n",
      "A is true\n",
      "A is in range 26\n",
      "A is true\n",
      "A is in range 27\n",
      "A is true\n",
      "A is in range 28\n",
      "A is true\n",
      "A is in range 29\n",
      "A is true\n",
      "A is in range 30\n",
      "A is true\n",
      "A is in range 31\n",
      "A is true\n",
      "A is in range 32\n",
      "A is true\n",
      "A is in range 33\n",
      "A is true\n",
      "A is in range 34\n",
      "A is true\n",
      "A is in range 35\n",
      "A is true\n",
      "A is in range 36\n",
      "A is true\n",
      "A is in range 37\n",
      "A is true\n",
      "A is in range 38\n",
      "A is true\n",
      "A is in range 39\n",
      "A is true\n",
      "A is in range 40\n",
      "A is true\n",
      "A is in range 41\n",
      "A is true\n",
      "A is in range 42\n",
      "A is true\n",
      "A is in range 43\n",
      "A is true\n",
      "A is in range 44\n",
      "A is true\n",
      "A is in range 45\n",
      "A is true\n",
      "A is in range 46\n",
      "A is true\n",
      "A is in range 47\n",
      "A is true\n",
      "A is in range 48\n",
      "A is true\n",
      "A is in range 49\n",
      "A is true\n",
      "A is in range 50\n",
      "A is true\n",
      "A is in range 51\n",
      "A is true\n",
      "A is in range 52\n",
      "A is true\n",
      "A is in range 53\n",
      "A is true\n",
      "A is in range 54\n",
      "A is true\n",
      "A is in range 55\n",
      "A is true\n",
      "A is in range 56\n",
      "A is true\n",
      "A is in range 57\n",
      "A is true\n",
      "A is in range 58\n",
      "A is true\n",
      "A is in range 59\n",
      "A is true\n",
      "A is in range 60\n",
      "A is true\n",
      "A is in range 61\n",
      "A is true\n",
      "A is in range 62\n",
      "A is true\n",
      "A is in range 63\n",
      "A is true\n",
      "A is in range 64\n",
      "A is true\n",
      "A is in range 65\n",
      "A is true\n",
      "A is in range 66\n",
      "A is true\n",
      "A is in range 67\n",
      "A is true\n",
      "A is in range 68\n",
      "A is true\n",
      "A is in range 69\n",
      "A is true\n",
      "A is in range 70\n",
      "A is true\n",
      "A is in range 71\n",
      "A is true\n",
      "A is in range 72\n",
      "A is true\n",
      "A is in range 73\n",
      "A is true\n",
      "A is in range 74\n",
      "A is true\n",
      "A is in range 75\n",
      "A is true\n",
      "A is in range 76\n",
      "A is true\n",
      "A is in range 77\n",
      "A is true\n",
      "A is in range 78\n",
      "A is true\n",
      "A is in range 79\n",
      "A is true\n",
      "A is in range 80\n",
      "A is true\n",
      "A is in range 81\n",
      "A is true\n",
      "A is in range 82\n",
      "A is true\n",
      "A is in range 83\n",
      "A is true\n",
      "A is in range 84\n",
      "A is true\n",
      "A is in range 85\n",
      "A is true\n",
      "A is in range 86\n",
      "A is true\n",
      "A is in range 87\n",
      "A is true\n",
      "A is in range 88\n",
      "A is true\n",
      "A is in range 89\n",
      "A is true\n",
      "A is in range 90\n",
      "A is true\n",
      "A is in range 91\n",
      "A is true\n",
      "A is in range 92\n",
      "A is true\n",
      "A is in range 93\n",
      "A is true\n",
      "A is in range 94\n",
      "A is true\n",
      "A is in range 95\n",
      "A is true\n",
      "A is in range 96\n",
      "A is true\n",
      "A is in range 97\n",
      "A is true\n",
      "A is in range 98\n",
      "A is true\n",
      "A is in range 99\n",
      "A is true\n",
      "----*********----\n",
      "A is out of range\n",
      "----*********----\n"
     ]
    }
   ],
   "source": [
    "#for loop\n",
    "a=True\n",
    "for i in range(100):\n",
    "    print(\"A is in range\",i)\n",
    "    if(a==True):\n",
    "        print(\"A is true\")\n",
    "    else:\n",
    "        print(\"A is false\")\n",
    "else:\n",
    "    print(\"----*********----\")\n",
    "    print(\"A is out of range\")\n",
    "    print(\"----*********----\")"
   ]
  },
  {
   "cell_type": "code",
   "execution_count": null,
   "metadata": {},
   "outputs": [
    {
     "name": "stdout",
     "output_type": "stream",
     "text": [
      "Go corona\n",
      "Enter the statusno\n",
      "Go corona\n",
      "Enter the statusno\n",
      "Go corona\n",
      "Enter the statusyes\n",
      "Go corona\n",
      "Enter the statusYes\n",
      "Go corona\n"
     ]
    }
   ],
   "source": [
    "#while loop\n",
    "corona = True\n",
    "while corona==True:\n",
    "    print(\"Go corona\")\n",
    "    b = input(\"Enter the status\")\n",
    "    if b[0].lower==\"Yes\":\n",
    "        corona=False\n",
    "else:\n",
    "    print(\"Corona is gone\")"
   ]
  },
  {
   "cell_type": "code",
   "execution_count": 1,
   "metadata": {},
   "outputs": [
    {
     "name": "stdout",
     "output_type": "stream",
     "text": [
      "Number is 5\n",
      "Number is 6\n",
      "Number is 7\n"
     ]
    }
   ],
   "source": [
    "#break\n",
    "for i in range(5,15):\n",
    "    if(i==8):\n",
    "        break\n",
    "    print(\"Number is\",i)"
   ]
  },
  {
   "cell_type": "code",
   "execution_count": 1,
   "metadata": {},
   "outputs": [
    {
     "name": "stdout",
     "output_type": "stream",
     "text": [
      "Number is 5\n",
      "Number is 6\n",
      "Number is 7\n",
      "Number is 9\n",
      "Number is 10\n",
      "Number is 11\n",
      "Number is 12\n",
      "Number is 13\n",
      "Number is 14\n"
     ]
    }
   ],
   "source": [
    "#continue\n",
    "for i in range(5,15):\n",
    "    if(i==8):\n",
    "        continue\n",
    "    print(\"Number is\",i)"
   ]
  },
  {
   "cell_type": "code",
   "execution_count": 2,
   "metadata": {},
   "outputs": [],
   "source": [
    "#pass\n",
    "for i in range(5,15):\n",
    "    pass"
   ]
  },
  {
   "cell_type": "code",
   "execution_count": 5,
   "metadata": {},
   "outputs": [],
   "source": [
    "#file handling\n",
    "file = open(\"Poo.txt\",'w')\n",
    "file.write(\"Hello World\")\n",
    "file.close()"
   ]
  },
  {
   "cell_type": "code",
   "execution_count": 6,
   "metadata": {},
   "outputs": [
    {
     "name": "stdout",
     "output_type": "stream",
     "text": [
      "Hello World\n"
     ]
    }
   ],
   "source": [
    "file = open(\"Poo.txt\",'r')\n",
    "b=file.read()\n",
    "print(b)\n",
    "file.close()"
   ]
  },
  {
   "cell_type": "code",
   "execution_count": 7,
   "metadata": {},
   "outputs": [],
   "source": [
    "file = open(\"Poo.txt\",'a')\n",
    "b=file.write(\"\\n\\n Hi\")\n",
    "file.close()"
   ]
  },
  {
   "cell_type": "code",
   "execution_count": 8,
   "metadata": {},
   "outputs": [
    {
     "name": "stdout",
     "output_type": "stream",
     "text": [
      "Hello World\n",
      "\n",
      " Hi\n"
     ]
    }
   ],
   "source": [
    "file = open(\"Poo.txt\",'r')\n",
    "b=file.read()\n",
    "print(b)\n",
    "file.close()"
   ]
  },
  {
   "cell_type": "code",
   "execution_count": 1,
   "metadata": {},
   "outputs": [
    {
     "name": "stdout",
     "output_type": "stream",
     "text": [
      "Hard\n"
     ]
    }
   ],
   "source": [
    "a=10\n",
    "b=20\n",
    "if a==b:\n",
    "    print(\"Easy\")\n",
    "else:\n",
    "    print(\"Hard\")"
   ]
  },
  {
   "cell_type": "code",
   "execution_count": null,
   "metadata": {},
   "outputs": [],
   "source": []
  }
 ],
 "metadata": {
  "kernelspec": {
   "display_name": "Python 3",
   "language": "python",
   "name": "python3"
  },
  "language_info": {
   "codemirror_mode": {
    "name": "ipython",
    "version": 3
   },
   "file_extension": ".py",
   "mimetype": "text/x-python",
   "name": "python",
   "nbconvert_exporter": "python",
   "pygments_lexer": "ipython3",
   "version": "3.7.6"
  }
 },
 "nbformat": 4,
 "nbformat_minor": 4
}
