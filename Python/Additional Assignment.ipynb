{
 "cells": [
  {
   "cell_type": "markdown",
   "metadata": {},
   "source": [
    "# Cipher text"
   ]
  },
  {
   "cell_type": "code",
   "execution_count": 5,
   "metadata": {},
   "outputs": [
    {
     "name": "stdout",
     "output_type": "stream",
     "text": [
      "Enter the String Poojha241098.\n",
      "Enter the key 5\n",
      "Uttomf796543.\n"
     ]
    }
   ],
   "source": [
    "S=list(input(\"Enter the String \"))\n",
    "K=int(input(\"Enter the key \"))\n",
    "a=len(S)\n",
    "result=\"\"\n",
    "for i in range(a):\n",
    "    char=S[i]\n",
    "    if(char.isupper()):\n",
    "        result+=chr((ord(S[i])-65 + K) % 26 + 65)\n",
    "    elif(char.islower()):\n",
    "        result+=chr((ord(S[i])-97 + K) % 26 + 97)\n",
    "    elif(char.isdigit()):\n",
    "        result+=chr((ord(S[i])-48 + K) % 10 + 48)\n",
    "    else:\n",
    "        result+=S[i]\n",
    "print(result)\n",
    "        "
   ]
  },
  {
   "cell_type": "code",
   "execution_count": null,
   "metadata": {},
   "outputs": [],
   "source": []
  }
 ],
 "metadata": {
  "kernelspec": {
   "display_name": "Python 3",
   "language": "python",
   "name": "python3"
  },
  "language_info": {
   "codemirror_mode": {
    "name": "ipython",
    "version": 3
   },
   "file_extension": ".py",
   "mimetype": "text/x-python",
   "name": "python",
   "nbconvert_exporter": "python",
   "pygments_lexer": "ipython3",
   "version": "3.7.6"
  }
 },
 "nbformat": 4,
 "nbformat_minor": 4
}
