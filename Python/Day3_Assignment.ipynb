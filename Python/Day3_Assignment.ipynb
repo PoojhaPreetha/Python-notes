{
 "cells": [
  {
   "cell_type": "code",
   "execution_count": 12,
   "metadata": {},
   "outputs": [
    {
     "name": "stdout",
     "output_type": "stream",
     "text": [
      "Enter the mark to view your grade 90\n",
      "|-----|\n",
      "|--A--|\n",
      "|-----|\n"
     ]
    }
   ],
   "source": [
    "#question1 if,ellif,else\n",
    "a=int(input(\"Enter the mark to view your grade \"))\n",
    "if(a>=90):\n",
    "    print(\"|-----|\")\n",
    "    print(\"|--A--|\")\n",
    "    print(\"|-----|\")\n",
    "elif(a>=80 and a<90):\n",
    "    print(\"|-----|\")\n",
    "    print(\"|--B--|\")\n",
    "    print(\"|-----|\")\n",
    "elif(a>=70 and a<80):\n",
    "    print(\"|-----|\")\n",
    "    print(\"|--C--|\")\n",
    "    print(\"|-----|\")\n",
    "elif(a>=60 and a<70):\n",
    "    print(\"|-----|\")\n",
    "    print(\"|--D--|\")\n",
    "    print(\"|-----|\")\n",
    "elif(a>=50 and a<60):\n",
    "    print(\"|-----|\")\n",
    "    print(\"|--E--|\")\n",
    "    print(\"|-----|\")\n",
    "else:\n",
    "    print(\"|-----|\")\n",
    "    print(\"|--F--|\")\n",
    "    print(\"|-----|\")"
   ]
  },
  {
   "cell_type": "code",
   "execution_count": 13,
   "metadata": {},
   "outputs": [
    {
     "name": "stdout",
     "output_type": "stream",
     "text": [
      "Enter the score 90\n",
      "You don't watch that much!\n"
     ]
    }
   ],
   "source": [
    "#question2 cricket score\n",
    "b=int(input(\"Enter your predicted score \"))\n",
    "p=int(input(\"\"))\n",
    "if(b<1 or b>250):\n",
    "    print(\"Reduce your expectations for 20-20 Cricket\")\n",
    "elif(p-b<=10):\n",
    "    print(\"Close By,you are true Indian Fan\")\n",
    "else:\n",
    "    print(\"You don't watch that much!\")"
   ]
  },
  {
   "cell_type": "code",
   "execution_count": 24,
   "metadata": {},
   "outputs": [],
   "source": [
    "#question 3 file handling\n",
    "file = open(\"Abc.txt\",\"w\")\n",
    "file.write(\"I Love FCS\")\n",
    "file.close()"
   ]
  },
  {
   "cell_type": "code",
   "execution_count": 25,
   "metadata": {},
   "outputs": [
    {
     "name": "stdout",
     "output_type": "stream",
     "text": [
      "I Love FCS\n"
     ]
    }
   ],
   "source": [
    "file = open(\"Abc.txt\",\"r\")\n",
    "f=file.read()\n",
    "print(f)"
   ]
  },
  {
   "cell_type": "code",
   "execution_count": 3,
   "metadata": {
    "scrolled": true
   },
   "outputs": [
    {
     "name": "stdout",
     "output_type": "stream",
     "text": [
      "Enter the length of side of square 4\n",
      "How many times do you want to upload the picture 5\n",
      "Enter the height of the picture 90\n",
      "Enter the width of the picture 84\n",
      "CROP IT\n",
      "Enter the height of the picture 90\n",
      "Enter the width of the picture 90\n",
      "ACCEPTED\n",
      "Enter the height of the picture 0\n",
      "Enter the width of the picture 0\n",
      "UPLOAD ANOTHER\n",
      "Enter the height of the picture 10001\n",
      "Enter the width of the picture 10001\n",
      "UPLOAD ANOTHER\n",
      "Enter the height of the picture 500\n",
      "Enter the width of the picture 900\n",
      "CROP IT\n"
     ]
    }
   ],
   "source": [
    "#question 4 Profile Picture\n",
    "L=int(input(\"Enter the length of side of square \"))\n",
    "N=int(input(\"How many times do you want to upload the picture \"))\n",
    "count=0\n",
    "while(count<N):\n",
    "    count+=1\n",
    "    H=int(input(\"Enter the height of the picture \"))\n",
    "    W=int(input(\"Enter the width of the picture \"))\n",
    "    if(H>=1 and W>=1 and H<=1000 and W<=1000):\n",
    "        if(H==W):\n",
    "            print(\"ACCEPTED\")\n",
    "        else:\n",
    "            print(\"CROP IT\")\n",
    "    else:\n",
    "        print(\"UPLOAD ANOTHER\")\n",
    "\n",
    "\n"
   ]
  },
  {
   "cell_type": "code",
   "execution_count": 7,
   "metadata": {},
   "outputs": [
    {
     "name": "stdout",
     "output_type": "stream",
     "text": [
      "Enter the position to move L\n",
      "-1 0\n"
     ]
    }
   ],
   "source": [
    "#question 5 maze\n",
    "p=input(\"Enter the position to move \")\n",
    "x=0\n",
    "y=0\n",
    "for i in p:\n",
    "    if(i==\"L\"):\n",
    "        x-=1\n",
    "    elif(i==\"R\"):\n",
    "        x+=1\n",
    "    elif(i==\"U\"):\n",
    "        y+=1\n",
    "    elif(i==\"D\"):\n",
    "        y-=1\n",
    "    print(x,end=\" \")\n",
    "    print(y)"
   ]
  },
  {
   "cell_type": "code",
   "execution_count": null,
   "metadata": {},
   "outputs": [],
   "source": []
  }
 ],
 "metadata": {
  "kernelspec": {
   "display_name": "Python 3",
   "language": "python",
   "name": "python3"
  },
  "language_info": {
   "codemirror_mode": {
    "name": "ipython",
    "version": 3
   },
   "file_extension": ".py",
   "mimetype": "text/x-python",
   "name": "python",
   "nbconvert_exporter": "python",
   "pygments_lexer": "ipython3",
   "version": "3.7.6"
  }
 },
 "nbformat": 4,
 "nbformat_minor": 4
}
